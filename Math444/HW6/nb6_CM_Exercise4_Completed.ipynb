{
 "cells": [
  {
   "cell_type": "markdown",
   "metadata": {
    "slideshow": {
     "slide_type": "skip"
    }
   },
   "source": [
    "***\n",
    "\n",
    "*Course:* [Math 444](https://people.math.wisc.edu/~hlyu36/GNiDS/) - Graphs and Networks in Data Science (MMiDS) - Spring 2025\n",
    "\n",
    "*Author:* [Hanbaek Lyu](https://hanbaeklyu.com), Department of Mathematics, University of Wisconsin-Madison  \n",
    "\n",
    "***"
   ]
  },
  {
   "cell_type": "code",
   "execution_count": null,
   "metadata": {},
   "outputs": [],
   "source": [
    "### Load some packages \n",
    "\n",
    "import networkx as nx # for handling graphs/networks \n",
    "import numpy as np # for basic scientific computing \n",
    "import matplotlib.pyplot as plt # for plotting\n",
    "import matplotlib.gridspec as gridspec\n",
    "from tqdm import trange"
   ]
  },
  {
   "cell_type": "markdown",
   "metadata": {},
   "source": [
    "# Barabasi-Albert model"
   ]
  },
  {
   "cell_type": "code",
   "execution_count": null,
   "metadata": {},
   "outputs": [],
   "source": [
    "def BA(G0=None, m0=1, m=1, n=100, alpha=1):\n",
    "    # Barabasi-Albert model with baseline graph G = single node with m0 self-loops \n",
    "    # Each new node has m edges pointing to some nodes in the existing graph \n",
    "    # alpha=1 -> preferential attachment: The head of each new directed edge is chosen randomly with probability \n",
    "    # proportional to the degree\n",
    "    # alpha=0 ->: Uniform attachment: The head of each new directed edge is chosen uniformly at random\n",
    "    # alpha \\notin\\{0,1} -> nonlinear preferential attachment: The head of each new directed edge is chosen \n",
    "    # randomly with probability proportional to the degree^alpha\n",
    "    \n",
    "    if G0 is not None: \n",
    "        G = G0\n",
    "    else: \n",
    "        G = nx.MultiGraph() # baseline graph with a single node and m0 self-loops \n",
    "        for i in np.arange(m0):\n",
    "            G.add_edge(1,1)\n",
    "        \n",
    "    for s in np.arange(1,n):\n",
    "        for j in np.arange(m):\n",
    "            # form a degree distribution \n",
    "            degrees = np.asarray([G.degree(n)**(alpha) for n in G.nodes()])\n",
    "            deg_dist = degrees*(1/np.sum(degrees))\n",
    "            v = np.random.choice(G.nodes(), p=deg_dist)\n",
    "            G.add_edge(s,v)\n",
    "        \n",
    "    return G\n",
    "    "
   ]
  },
  {
   "cell_type": "markdown",
   "metadata": {},
   "source": [
    "# Random Walk Attachement model"
   ]
  },
  {
   "cell_type": "code",
   "execution_count": null,
   "metadata": {},
   "outputs": [],
   "source": [
    "def RWA(G0=None, m0=1, m=1, n=100, p=0.9):\n",
    "    # Random Walk Attachement model with baseline graph G = single node with m0 self-loops \n",
    "    # Each new node has m edges pointing to some nodes in the existing graph \n",
    "    # When adding a new node $u$, we add edges {u,v_1}, \\dots, {u,v_m} \n",
    "    # v_1 is uniformly chosen among all nodes in G\n",
    "    # v_2 is uniformly chosen among all neighbors of v_1 with probability p; \n",
    "    # (p is the probability of closing a triangle)\n",
    "    # with the rest of probability, v_2 is chosen the same way as v_1\n",
    "    # Do the same for the rest of v_3,..,v_m. \n",
    "    \n",
    "    if G0 is not None: \n",
    "        G = G0\n",
    "    else: \n",
    "        G = nx.MultiGraph() # baseline graph with a single node and m0 self-loops \n",
    "        for i in np.arange(m0):\n",
    "            G.add_edge(1,1)\n",
    "        \n",
    "    for s in np.arange(1,n-m0):\n",
    "        v = np.random.choice(G.nodes())\n",
    "        for j in np.arange(m):\n",
    "            U = np.random.rand()\n",
    "            if (j == 1) or (U>p):\n",
    "                candidates = list(G.nodes())\n",
    "            else: \n",
    "                candidates = list(G.neighbors(v))\n",
    "            if (len(candidates)>1) and (s in candidates):\n",
    "                candidates.remove(s)\n",
    "            v = np.random.choice(candidates)\n",
    "            G.add_edge(s,v)\n",
    "        \n",
    "    return G\n",
    "    "
   ]
  },
  {
   "cell_type": "code",
   "execution_count": null,
   "metadata": {},
   "outputs": [],
   "source": [
    "G = RWA(p=0.5)\n",
    "nx.draw(G)"
   ]
  },
  {
   "cell_type": "code",
   "execution_count": null,
   "metadata": {},
   "outputs": [],
   "source": [
    "fig = plt.figure(figsize=[11,7], constrained_layout=False)\n",
    "network_list = [\"\"]\n",
    "n = 500\n",
    "m=3\n",
    "p_list = [0, 0.3, 0.7, 1]\n",
    "sample_size = 100\n",
    "\n",
    "outer_grid = gridspec.GridSpec(nrows=3, ncols=len(p_list)+1, wspace=0.2, hspace=0.3)\n",
    "\n",
    "G = nx.MultiGraph() # baseline graph with a single node and a self-loop\n",
    "G.add_edge(1,1)\n",
    "\n",
    "for i in trange(len(p_list)+1): \n",
    "    clustering_list = [] \n",
    "    path_length_list = []\n",
    "    for j in np.arange(sample_size):\n",
    "        if i < len(p_list):\n",
    "            G = RWA(m0=1, m=m, n=n, p = p_list[i])\n",
    "            title = r\"RWA (n={}, $m$={}, $p$={})\".format(n, m, p_list[i])   \n",
    "        else:\n",
    "            alpha = 1\n",
    "            G = BA(m0=1, m=m, n=n, alpha = alpha)\n",
    "            title = r\"BA (n={}, $m$={}, $\\alpha$={})\".format(n, m, alpha)\n",
    "\n",
    "        # convert multigraph from BA to simple graph\n",
    "        G00 = nx.Graph()\n",
    "        for e in G.edges():    \n",
    "            G00.add_edge(e[0],e[1])\n",
    "        G = G00\n",
    "\n",
    "        clustering_list.append(nx.average_clustering(G))\n",
    "        if nx.is_connected(G):\n",
    "            path_length_list.append(nx.average_shortest_path_length(G))\n",
    "        else:\n",
    "            path_length_list.append(0)\n",
    "\n",
    "    \n",
    "    inner_grid = outer_grid[0,i].subgridspec(1, 1, wspace=0, hspace=0)\n",
    "    ax = fig.add_subplot(inner_grid[0, 0])\n",
    "    edges = G.edges()\n",
    "    weights = [0.5 for e in G.edges]\n",
    "    nx.draw(G, with_labels=False, width=weights, node_size=20, ax=ax, label='Graph', pos=nx.circular_layout(G))\n",
    "    #ax.legend()\n",
    "    ax.set_title(title, fontsize=8)\n",
    "\n",
    "    \n",
    "    inner_grid1 = outer_grid[1,i].subgridspec(1, 1, wspace=0.1, hspace=0.1)\n",
    "    ax = fig.add_subplot(inner_grid1[0, 0])\n",
    "    ax.hist(clustering_list, bins='auto', alpha=0.7, label='BA', edgecolor=\"k\", histtype='stepfilled', density=True)\n",
    "    #ax.legend()\n",
    "    ax.set_title(r\"Avg. Cl. Coeff.\", fontsize=8)\n",
    "    \n",
    "    degrees = [G.degree(n) for n in G.nodes()]\n",
    "    inner_grid1 = outer_grid[2,i].subgridspec(1, 1, wspace=0, hspace=0)\n",
    "    ax = fig.add_subplot(inner_grid1[0, 0])\n",
    "    ax.hist(degrees, bins='auto', alpha=0.7, label='RWA', edgecolor=\"k\", histtype='stepfilled', density=True)\n",
    "    ax.set_yscale('log')\n",
    "    ax.set_xscale('log')\n",
    "    ax.set_title(r\"Degree dist.\", fontsize=8)\n",
    "\n",
    "    \n",
    "    #inner_grid2 = outer_grid[2,i].subgridspec(1, 1, wspace=0, hspace=0)\n",
    "    #ax = fig.add_subplot(inner_grid2[0, 0])\n",
    "    #ax.hist(path_length_list, bins='auto', alpha=0.7, label='BA', edgecolor=\"k\", histtype='stepfilled', density=True)\n",
    "    #ax.legend()\n",
    "    #ax.set_title(r\"Avg. path length\", fontsize=8)\n",
    "    \n",
    "\n",
    "\n",
    "\n",
    "plt.savefig(\"RWA_comparison2\", bbox_inches=\"tight\")"
   ]
  },
  {
   "cell_type": "code",
   "execution_count": null,
   "metadata": {},
   "outputs": [],
   "source": [
    "fig = plt.figure(figsize=[11,5], constrained_layout=False)\n",
    "network_list = [\"\"]\n",
    "n_list=[10, 30, 50, 100]\n",
    "m=3\n",
    "p=1\n",
    "outer_grid = gridspec.GridSpec(nrows=2, ncols=len(n_list), wspace=0.3, hspace=0.1)\n",
    "\n",
    "G = nx.MultiGraph() # baseline graph with a single node and a self-loop\n",
    "G.add_edge(1,1)\n",
    "\n",
    "for i in np.arange(len(n_list)): \n",
    "    for j in np.arange(2):\n",
    "        if j == 0:\n",
    "            G = RWA(m0=1, m=m, n=n_list[i], p=0.9)\n",
    "            title = r\"RWA ($m$={}, $n$={}, $p$={})\".format(m, n_list[i], p)\n",
    "        else: \n",
    "            G = BA(m0=1, m=m, n=n_list[i], alpha=1)\n",
    "            title = r\"BA ($m$={}, $n$={}, $\\alpha$={})\".format(m, n_list[i], 1)\n",
    "        G00 = nx.Graph()\n",
    "        \n",
    "        for e in G.edges():    \n",
    "            G00.add_edge(e[0],e[1])\n",
    "        G0 = G00\n",
    "        degrees = [G.degree(n) for n in G.nodes()]\n",
    "\n",
    "        inner_grid = outer_grid[j,i].subgridspec(1, 1, wspace=0, hspace=0)\n",
    "        ax = fig.add_subplot(inner_grid[0, 0])\n",
    "        #edges = G.edges()\n",
    "        #weights = [0.5 for u,v in G.edges]\n",
    "        nx.draw(G, with_labels=False, width=weights, node_size=20, ax=ax, label='Graph')\n",
    "        #ax.legend()\n",
    "        title = title + \"\\n avg. cl. coeff.={}\".format(np.round(nx.average_clustering(G0),3))\n",
    "        ax.set_title(title, fontsize=8)\n",
    "    \n",
    "\n",
    "\n",
    "\n",
    "plt.savefig(\"RWA_comparison0\", bbox_inches=\"tight\")"
   ]
  },
  {
   "cell_type": "markdown",
   "metadata": {},
   "source": [
    "# Random walk on graphs"
   ]
  },
  {
   "cell_type": "code",
   "execution_count": null,
   "metadata": {},
   "outputs": [],
   "source": [
    "def RW(G, x0=None, steps=1, return_history=False):\n",
    "    # simple symmetric random walk on graph G \n",
    "    # initialization at x0\n",
    "    if x0 is None:\n",
    "        x = np.random.choice(G.nodes())\n",
    "    else:\n",
    "        x = x0\n",
    "    \n",
    "    history = []\n",
    "    for i in np.arange(steps):\n",
    "        if len(list(G.neighbors(x))) == 1:\n",
    "            print(\"RW is stuck at isolated node\")\n",
    "            x = np.random.choice(G.nodes()) # re-initialize uniformly at random\n",
    "        else: \n",
    "            x = np.random.choice(list(G.neighbors(x)))\n",
    "\n",
    "        if return_history:\n",
    "            history.append(x)\n",
    "        \n",
    "    if not return_history: \n",
    "        return x \n",
    "    else: \n",
    "        return history"
   ]
  },
  {
   "cell_type": "code",
   "execution_count": null,
   "metadata": {},
   "outputs": [],
   "source": [
    "history = RW(G, x0=None, steps=20, return_history=True)"
   ]
  },
  {
   "cell_type": "code",
   "execution_count": null,
   "metadata": {},
   "outputs": [],
   "source": [
    "d = [1,2,3]"
   ]
  },
  {
   "cell_type": "code",
   "execution_count": null,
   "metadata": {},
   "outputs": [],
   "source": [
    "stubs_list = []\n",
    "for i in np.arange(len(d)):\n",
    "    for j in np.arange(d[i]):\n",
    "        stubs_list.append([i,j])"
   ]
  },
  {
   "cell_type": "code",
   "execution_count": null,
   "metadata": {},
   "outputs": [],
   "source": [
    "stubs_list"
   ]
  },
  {
   "cell_type": "code",
   "execution_count": null,
   "metadata": {},
   "outputs": [],
   "source": [
    "np.random.choice(np.asarray(len(stubs_list)), 2)"
   ]
  },
  {
   "cell_type": "code",
   "execution_count": null,
   "metadata": {},
   "outputs": [],
   "source": [
    "np.asarray([len(s) for s in stubs_list])"
   ]
  },
  {
   "cell_type": "code",
   "execution_count": null,
   "metadata": {},
   "outputs": [],
   "source": [
    "ss = np.random.choice(np.asarray(100), 2)\n",
    "s1 = ss[0]\n",
    "s2 = ss[1]"
   ]
  },
  {
   "cell_type": "code",
   "execution_count": null,
   "metadata": {},
   "outputs": [],
   "source": [
    "ss"
   ]
  },
  {
   "cell_type": "code",
   "execution_count": null,
   "metadata": {},
   "outputs": [],
   "source": [
    "s1"
   ]
  },
  {
   "cell_type": "code",
   "execution_count": null,
   "metadata": {},
   "outputs": [],
   "source": [
    "s2"
   ]
  },
  {
   "cell_type": "markdown",
   "metadata": {},
   "source": [
    "# Configuration model"
   ]
  },
  {
   "cell_type": "markdown",
   "metadata": {},
   "source": [
    "## Model construction"
   ]
  },
  {
   "cell_type": "code",
   "execution_count": null,
   "metadata": {},
   "outputs": [],
   "source": [
    "def CM(d):\n",
    "    d = list(d)\n",
    "    stubs_list = []\n",
    "    \n",
    "    # (1) Append node index i for each of its stubs\n",
    "    for i in np.arange(len(d)):\n",
    "        for j in np.arange(d[i]):\n",
    "            stubs_list.append(i)\n",
    "    \n",
    "    G = nx.MultiGraph()\n",
    "    \n",
    "    while len(stubs_list) > 0:\n",
    "        # Randomly pick two distinct stubs\n",
    "        ss = np.random.choice(np.arange(len(stubs_list)), 2, replace=False)\n",
    "        s1, s2 = ss\n",
    "        half_edge1 = stubs_list[s1]  # (2)\n",
    "        half_edge2 = stubs_list[s2]  # (3)\n",
    "        \n",
    "        G.add_edge(half_edge1, half_edge2)  # (4)\n",
    "        \n",
    "        # Remove the matched stubs (careful with order)\n",
    "        for index in sorted([s1, s2], reverse=True):\n",
    "            stubs_list.pop(index)\n",
    "    \n",
    "    return G"
   ]
  },
  {
   "cell_type": "code",
   "execution_count": null,
   "metadata": {},
   "outputs": [],
   "source": [
    "d = [3]*50"
   ]
  },
  {
   "cell_type": "code",
   "execution_count": null,
   "metadata": {},
   "outputs": [],
   "source": [
    "nx.draw(CM(d))"
   ]
  },
  {
   "cell_type": "code",
   "execution_count": null,
   "metadata": {},
   "outputs": [],
   "source": [
    "fig = plt.figure(figsize=[12,4], constrained_layout=False)\n",
    "network_list = [\"\"]\n",
    "n_list=[10, 50, 100]\n",
    "outer_grid = gridspec.GridSpec(nrows=1, ncols=len(n_list), wspace=0.3, hspace=0.1)\n",
    "\n",
    "r = 3\n",
    "clustering_list = [] \n",
    "path_length_list = []\n",
    "\n",
    "for i in np.arange(len(n_list)): \n",
    "    deg_dist = [r]*n_list[i]\n",
    "    G = CM(d=deg_dist)\n",
    "    title = r\"CM (${}$-regular, $n$={})\".format(r, n_list[i])\n",
    "    \n",
    "    #degrees = [G.degree(n) for n in G.nodes()]\n",
    "\n",
    "    inner_grid = outer_grid[0,i].subgridspec(1, 1, wspace=0, hspace=0)\n",
    "    ax = fig.add_subplot(inner_grid[0, 0])\n",
    "    #edges = G.edges()\n",
    "    #weights = [0.5 for u,v in G.edges]\n",
    "    nx.draw(G, with_labels=False, width=0.5, node_size=20, ax=ax, label='Graph')\n",
    "    #ax.legend()\n",
    "    #title = title + \"\\n avg. cl. coeff.={}\".format(np.round(nx.average_clustering(G0),3))\n",
    "    ax.set_title(title, fontsize=10)\n",
    "\n",
    "\n",
    "plt.savefig(\"CM_0\", bbox_inches=\"tight\")"
   ]
  },
  {
   "cell_type": "markdown",
   "metadata": {},
   "source": [
    "## Hypothesis testing: Subgraph in Caltech"
   ]
  },
  {
   "cell_type": "code",
   "execution_count": null,
   "metadata": {},
   "outputs": [],
   "source": [
    "def p_value(x0, data_list):\n",
    "    # computes p-value = P(random data point from data distribution > x0)\n",
    "    excess_list = [x for x in data_list if x>=x0]\n",
    "    return len(excess_list)/len(data_list)\n",
    "    "
   ]
  },
  {
   "cell_type": "code",
   "execution_count": null,
   "metadata": {},
   "outputs": [],
   "source": [
    "## Load Caltech Facebook graph\n",
    "\n",
    "# Initialize graph \n",
    "G = nx.Graph()\n",
    "\n",
    "# Load COVID_PPI.txt edgelist\n",
    "path = \"Caltech.txt\"\n",
    "edgelist = list(np.genfromtxt(path, delimiter=\",\", dtype=str)) \n",
    "\n",
    "# Add in all edges in the edgelist to G\n",
    "for e in edgelist:\n",
    "    G.add_edge(e[0], e[1]) \n",
    "    \n",
    "# Print out the number of nodes and edges in G\n",
    "\n",
    "print(\"Number of nodes:\", len(list(G.nodes())))\n",
    "print(\"Number of edges:\", len(list(G.edges())))\n",
    "print(\"Avg. clustering coefficient:\", nx.average_clustering(G0))\n",
    "print(\"Avg. shortest path length:\", nx.average_shortest_path_length(G0))\n",
    "print(\"edge density:\", nx.density(G))\n",
    "G0 = G.subgraph(sorted(nx.connected_components(G), key=len, reverse=True)[0])\n",
    "\n",
    "# Compute the number of connected compoenents\n",
    "G0 = G.subgraph(sorted(nx.connected_components(G), key=len, reverse=True)[0])\n",
    "\n",
    "nx.draw(G0)"
   ]
  },
  {
   "cell_type": "code",
   "execution_count": null,
   "metadata": {},
   "outputs": [],
   "source": [
    "# Perform a random walk and take an induced subgraph on a random walk trajectory \n",
    "RW_trajectory = RW(G0, steps=100, return_history=True)\n",
    "H = G.subgraph(nodes=RW_trajectory)\n",
    "print(\"Number of nodes:\", len(list(H.nodes())))\n",
    "print(\"Number of edges:\", len(list(H.edges())))\n",
    "nx.draw(H)"
   ]
  },
  {
   "cell_type": "code",
   "execution_count": null,
   "metadata": {},
   "outputs": [],
   "source": [
    "fig = plt.figure(figsize=[10,4], constrained_layout=False)\n",
    "outer_grid = gridspec.GridSpec(nrows=1, ncols=2, wspace=0.3, hspace=0.1)\n",
    "\n",
    "degrees = [H.degree(v) for v in H.nodes()]\n",
    "G = CM(d=degrees)\n",
    "\n",
    "inner_grid = outer_grid[0,0].subgridspec(1, 1, wspace=0, hspace=0)\n",
    "ax = fig.add_subplot(inner_grid[0, 0])\n",
    "nx.draw(H, with_labels=False, width=weights, node_size=20, ax=ax)\n",
    "ax.set_title(\"Caltech Subgraph\", fontsize=10)\n",
    "\n",
    "inner_grid = outer_grid[0,1].subgridspec(1, 1, wspace=0, hspace=0)\n",
    "ax = fig.add_subplot(inner_grid[0, 0])\n",
    "nx.draw(G, with_labels=False, width=weights, node_size=20, ax=ax)\n",
    "ax.set_title(\"Configuration Model\", fontsize=10)\n",
    "\n",
    "plt.savefig(\"CM_3\", bbox_inches=\"tight\")"
   ]
  },
  {
   "cell_type": "code",
   "execution_count": null,
   "metadata": {},
   "outputs": [],
   "source": [
    "from tqdm import trange\n",
    "\n",
    "n_samples = 1000\n",
    "\n",
    "statistics_list = [\"avg. deg.\", \"avg. clustering coeff.\", \"avg. path length\", \"max matching\"]\n",
    "\n",
    "stats_list0 = []\n",
    "stats_list1 = [] \n",
    "stats_list2 = []\n",
    "stats_list3 = []\n",
    "\n",
    "degrees = [H.degree(v) for v in H.nodes()]\n",
    "\n",
    "for i in trange(n_samples): \n",
    "    G = CM(d = degrees)\n",
    "    \n",
    "    # convert multigraph G into a simple graph G00 \n",
    "    G00 = nx.Graph()\n",
    "    for e in G.edges():    \n",
    "        G00.add_edge(e[0],e[1])\n",
    "    G0 = G00\n",
    "    \n",
    "    avg_deg = np.mean(np.asarray([G.degree(v) for v in G.nodes()]))\n",
    "    stats_list0.append(avg_deg)\n",
    "    stats_list1.append(nx.average_clustering(G00))\n",
    "    if nx.is_connected(G):\n",
    "        stats_list2.append(nx.average_shortest_path_length(G))\n",
    "    else:\n",
    "        stats_list2.append(0)\n",
    "        \n",
    "    stats_list3.append(len(nx.maximal_matching(G00)))  \n",
    "\n",
    "stats_list_all = [stats_list0, stats_list1, stats_list2, stats_list3]"
   ]
  },
  {
   "cell_type": "code",
   "execution_count": null,
   "metadata": {},
   "outputs": [],
   "source": [
    "fig = plt.figure(figsize=[11,2], constrained_layout=False)\n",
    "\n",
    "test_0 = np.mean(np.asarray(degrees))\n",
    "test_1 = nx.average_clustering(H)\n",
    "test_2 = nx.average_shortest_path_length(H)\n",
    "test_3 = len(nx.maximal_matching(H))\n",
    "\n",
    "outer_grid = gridspec.GridSpec(nrows=1, ncols=len(statistics_list), wspace=0.2, hspace=0.3)\n",
    "\n",
    "for i in np.arange(len(statistics_list)): \n",
    "    if i == 0:\n",
    "        test_0 = np.mean(np.asarray(degrees))\n",
    "    elif i == 1:\n",
    "        test_0 = nx.average_clustering(H)\n",
    "    elif i == 2:\n",
    "        test_0 = nx.average_shortest_path_length(H)\n",
    "    elif i == 3:\n",
    "        test_0 = len(nx.maximal_matching(H))\n",
    "    \n",
    "    inner_grid = outer_grid[0,i].subgridspec(1, 1, wspace=0.1, hspace=0.1)\n",
    "    ax = fig.add_subplot(inner_grid[0, 0])\n",
    "    p0 = p_value(test_0, stats_list_all[i])\n",
    "    ax.hist(stats_list_all[i], bins='auto', alpha=0.7, label=\"CM\", edgecolor=\"k\", histtype='stepfilled', density=True)\n",
    "    #ax.legend()\n",
    "    ax.set_title(statistics_list[i], fontsize=8)\n",
    "    ax.axvline(x=test_0, color='r', label=r\"$p$-value={}\".format(p0))\n",
    "    ax.legend(fontsize=9)\n",
    "\n",
    "plt.suptitle(\"Hypothesis testing for a sugraph of Caltech FB graph\", y=1.1)\n",
    "plt.savefig(\"CM_hypothesis0\", bbox_inches=\"tight\")"
   ]
  },
  {
   "cell_type": "markdown",
   "metadata": {},
   "source": [
    "## Exercise 4: Hypothesis Testing for ER and BA Models"
   ]
  },
  {
   "cell_type": "code",
   "execution_count": null,
   "metadata": {},
   "outputs": [],
   "source": [
    "# ===== Exercise 4(i): ER Hypothesis =====\n",
    "\n",
    "# Load Caltech graph\n",
    "G = nx.Graph()\n",
    "path = \"Caltech.txt\"\n",
    "edgelist = list(np.genfromtxt(path, delimiter=\",\", dtype=str)) \n",
    "for e in edgelist:\n",
    "    G.add_edge(e[0], e[1]) \n",
    "\n",
    "G0 = G.subgraph(sorted(nx.connected_components(G), key=len, reverse=True)[0])\n",
    "\n",
    "# Random walk subgraph H\n",
    "RW_trajectory = RW(G0, steps=100, return_history=True)\n",
    "H = G.subgraph(nodes=RW_trajectory)\n",
    "n = len(H.nodes())\n",
    "m = len(H.edges())\n",
    "\n",
    "p_mle = 2 * m / (n * (n - 1))\n",
    "\n",
    "n_samples = 1000\n",
    "\n",
    "statistics_list = [\"avg. clustering coeff.\"]\n",
    "stats_list_er = []\n",
    "\n",
    "for i in trange(n_samples): \n",
    "    G_er = nx.erdos_renyi_graph(n, p_mle)\n",
    "    if not nx.is_connected(G_er):\n",
    "        G_er = G_er.subgraph(sorted(nx.connected_components(G_er), key=len, reverse=True)[0])\n",
    "    stats_list_er.append(nx.average_clustering(G_er))\n",
    "\n",
    "test_stat = nx.average_clustering(H)\n",
    "\n",
    "plt.hist(stats_list_er, bins=30, alpha=0.7, label=\"ER Samples\")\n",
    "plt.axvline(test_stat, color='red', label=f\"Observed: {test_stat:.3f}\")\n",
    "plt.legend()\n",
    "plt.title(\"Exercise 4(i): ER Model Hypothesis Test\")\n",
    "plt.show()\n",
    "\n",
    "print(\"P-value (ER Model):\", p_value(test_stat, stats_list_er))\n"
   ]
  },
  {
   "cell_type": "code",
   "execution_count": null,
   "metadata": {},
   "outputs": [],
   "source": [
    "# ===== Exercise 4(ii): BA Hypothesis =====\n",
    "\n",
    "m_ba = max(1, int(m / n))\n",
    "\n",
    "stats_list_ba = []\n",
    "\n",
    "for i in trange(n_samples): \n",
    "    G_ba = nx.barabasi_albert_graph(n, m_ba)\n",
    "    if not nx.is_connected(G_ba):\n",
    "        G_ba = G_ba.subgraph(sorted(nx.connected_components(G_ba), key=len, reverse=True)[0])\n",
    "    stats_list_ba.append(nx.average_clustering(G_ba))\n",
    "\n",
    "plt.hist(stats_list_ba, bins=30, alpha=0.7, label=\"BA Samples\")\n",
    "plt.axvline(test_stat, color='red', label=f\"Observed: {test_stat:.3f}\")\n",
    "plt.legend()\n",
    "plt.title(\"Exercise 4(ii): BA Model Hypothesis Test\")\n",
    "plt.show()\n",
    "\n",
    "print(\"P-value (BA Model):\", p_value(test_stat, stats_list_ba))\n"
   ]
  },
  {
   "cell_type": "markdown",
   "metadata": {},
   "source": [
    "## Hypothesis testing: CM graph"
   ]
  },
  {
   "cell_type": "code",
   "execution_count": null,
   "metadata": {},
   "outputs": [],
   "source": [
    "from tqdm import trange\n",
    "\n",
    "degrees = [3]*100\n",
    "H = CM(d = degrees)\n",
    "H00 = nx.Graph()\n",
    "for e in G.edges():    \n",
    "    H00.add_edge(e[0],e[1])\n",
    "H = H00\n",
    "\n",
    "n_samples = 1000\n",
    "\n",
    "statistics_list = [\"avg. deg.\", \"avg. clustering coeff.\", \"avg. path length\", \"max matching\"]\n",
    "\n",
    "stats_list0 = []\n",
    "stats_list1 = [] \n",
    "stats_list2 = []\n",
    "stats_list3 = []\n",
    "\n",
    "degrees = [H.degree(v) for v in H.nodes()]\n",
    "\n",
    "for i in trange(n_samples): \n",
    "    G = CM(d = degrees)\n",
    "    \n",
    "    # convert multigraph G into a simple graph G00 \n",
    "    G00 = nx.Graph()\n",
    "    for e in G.edges():    \n",
    "        G00.add_edge(e[0],e[1])\n",
    "    G0 = G00\n",
    "    \n",
    "    avg_deg = np.mean(np.asarray([G.degree(v) for v in G.nodes()]))\n",
    "    stats_list0.append(avg_deg)\n",
    "    stats_list1.append(nx.average_clustering(G00))\n",
    "    if nx.is_connected(G):\n",
    "        stats_list2.append(nx.average_shortest_path_length(G))\n",
    "    else:\n",
    "        stats_list2.append(0)\n",
    "        \n",
    "    stats_list3.append(len(nx.maximal_matching(G00)))  \n",
    "\n",
    "stats_list_all = [stats_list0, stats_list1, stats_list2, stats_list3]"
   ]
  },
  {
   "cell_type": "code",
   "execution_count": null,
   "metadata": {},
   "outputs": [],
   "source": [
    "fig = plt.figure(figsize=[11,2], constrained_layout=False)\n",
    "\n",
    "test_0 = np.mean(np.asarray(degrees))\n",
    "test_1 = nx.average_clustering(H)\n",
    "test_2 = nx.average_shortest_path_length(H)\n",
    "test_3 = len(nx.maximal_matching(H))\n",
    "\n",
    "outer_grid = gridspec.GridSpec(nrows=1, ncols=len(statistics_list), wspace=0.2, hspace=0.3)\n",
    "\n",
    "for i in np.arange(len(statistics_list)): \n",
    "    if i == 0:\n",
    "        test_0 = np.mean(np.asarray(degrees))\n",
    "    elif i == 1:\n",
    "        test_0 = nx.average_clustering(H)\n",
    "    elif i == 2:\n",
    "        test_0 = nx.average_shortest_path_length(H)\n",
    "    elif i == 3:\n",
    "        test_0 = len(nx.maximal_matching(H))\n",
    "    \n",
    "    inner_grid = outer_grid[0,i].subgridspec(1, 1, wspace=0.1, hspace=0.1)\n",
    "    ax = fig.add_subplot(inner_grid[0, 0])\n",
    "    p0 = p_value(test_0, stats_list_all[i])\n",
    "    ax.hist(stats_list_all[i], bins='auto', alpha=0.7, label=\"CM\", edgecolor=\"k\", histtype='stepfilled', density=True)\n",
    "    #ax.legend()\n",
    "    ax.set_title(statistics_list[i], fontsize=8)\n",
    "    ax.axvline(x=test_0, color='r', label=r\"$p$-value={}\".format(p0))\n",
    "    ax.legend(fontsize=9)\n",
    "\n",
    "plt.suptitle(\"Hypothesis testing for a CM graph\", y=1.1)\n",
    "plt.savefig(\"CM_hypothesis1\", bbox_inches=\"tight\")"
   ]
  },
  {
   "cell_type": "code",
   "execution_count": null,
   "metadata": {},
   "outputs": [],
   "source": []
  }
 ],
 "metadata": {
  "kernelspec": {
   "display_name": "Python 3 (ipykernel)",
   "language": "python",
   "name": "python3"
  },
  "language_info": {
   "codemirror_mode": {
    "name": "ipython",
    "version": 3
   },
   "file_extension": ".py",
   "mimetype": "text/x-python",
   "name": "python",
   "nbconvert_exporter": "python",
   "pygments_lexer": "ipython3",
   "version": "3.12.5"
  }
 },
 "nbformat": 4,
 "nbformat_minor": 4
}
